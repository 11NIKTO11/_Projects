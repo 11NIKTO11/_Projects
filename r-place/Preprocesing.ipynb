{
 "cells": [
  {
   "cell_type": "markdown",
   "metadata": {},
   "source": [
    "# Graph Analysis\n",
    "\n",
    "## Setting up"
   ]
  },
  {
   "cell_type": "code",
   "execution_count": 1,
   "metadata": {},
   "outputs": [],
   "source": [
    "import pandas as pd \n",
    "import datetime"
   ]
  },
  {
   "cell_type": "code",
   "execution_count": 9,
   "metadata": {},
   "outputs": [],
   "source": [
    "REFERENCE_TIMESTAMP = datetime.datetime( 2022, 4, 1, 0, 0, 0)"
   ]
  },
  {
   "cell_type": "markdown",
   "metadata": {},
   "source": [
    "## Load and explore data"
   ]
  },
  {
   "cell_type": "code",
   "execution_count": 2,
   "metadata": {},
   "outputs": [
    {
     "name": "stdout",
     "output_type": "stream",
     "text": [
      "<class 'pandas.core.frame.DataFrame'>\n",
      "RangeIndex: 160353104 entries, 0 to 160353103\n",
      "Data columns (total 4 columns):\n",
      " #   Column       Dtype \n",
      "---  ------       ----- \n",
      " 0   timestamp    object\n",
      " 1   user_id      object\n",
      " 2   pixel_color  object\n",
      " 3   coordinate   object\n",
      "dtypes: object(4)\n",
      "memory usage: 4.8+ GB\n"
     ]
    }
   ],
   "source": [
    "df = pd.read_csv('2022_place_canvas_history.csv')\n",
    "df.info()"
   ]
  },
  {
   "cell_type": "code",
   "execution_count": 3,
   "metadata": {},
   "outputs": [
    {
     "name": "stdout",
     "output_type": "stream",
     "text": [
      "10381163\n"
     ]
    }
   ],
   "source": [
    "print(df['user_id'].nunique())"
   ]
  },
  {
   "cell_type": "markdown",
   "metadata": {},
   "source": [
    "## Clean data"
   ]
  },
  {
   "cell_type": "code",
   "execution_count": 4,
   "metadata": {},
   "outputs": [],
   "source": [
    "df = df[df['coordinate'].apply( lambda coordinate: (coordinate).count(',')==1)]"
   ]
  },
  {
   "cell_type": "code",
   "execution_count": 5,
   "metadata": {},
   "outputs": [],
   "source": [
    "df['timestamp'] = df['timestamp'].apply(lambda timestamp: str(timestamp)[:-4])"
   ]
  },
  {
   "cell_type": "code",
   "execution_count": null,
   "metadata": {},
   "outputs": [],
   "source": [
    "df = df.sort_values(by=['timestamp'], ascending=True)"
   ]
  },
  {
   "cell_type": "code",
   "execution_count": 8,
   "metadata": {},
   "outputs": [],
   "source": [
    "df['user_id_num'] = pd.factorize(df['user_id'])[0]\n",
    "df = df.drop( ['user_id'], axis=1)"
   ]
  },
  {
   "cell_type": "code",
   "execution_count": 10,
   "metadata": {},
   "outputs": [],
   "source": [
    "def convert_timestamp_to_timedelta( timestamp_str, reference_timestamp):\n",
    "    parsing_format = \"%Y-%m-%d %H:%M:%S.%f\" if '.' in timestamp_str else \"%Y-%m-%d %H:%M:%S\"\n",
    "    parsed_timestamp = datetime.datetime.strptime(timestamp_str, parsing_format)\n",
    "    time_delta = (parsed_timestamp - reference_timestamp).total_seconds()\n",
    "    return time_delta\n",
    "\n",
    "df['time'] = df['timestamp'].apply( lambda timestamp: convert_timestamp_to_timedelta( str(timestamp), REFERENCE_TIMESTAMP))\n",
    "df = df.drop( ['timestamp'], axis=1)"
   ]
  },
  {
   "cell_type": "code",
   "execution_count": 11,
   "metadata": {},
   "outputs": [],
   "source": [
    "def get_coordinate(coordinate_str, dim):\n",
    "    coordinates = coordinate_str.split(',')\n",
    "    return int(coordinates[dim])\n",
    "    \n",
    "df['X'] = df['coordinate'].apply(lambda coordinate_str: get_coordinate(str(coordinate_str), 0))\n",
    "df['Y'] = df['coordinate'].apply(lambda coordinate_str: get_coordinate(str(coordinate_str), 1))\n",
    "df = df.drop( ['coordinate'], axis=1)"
   ]
  },
  {
   "cell_type": "code",
   "execution_count": 12,
   "metadata": {},
   "outputs": [],
   "source": [
    "df.to_csv( '2022_place_canvas_history_cleared.csv', sep=',', index=False)"
   ]
  }
 ],
 "metadata": {
  "kernelspec": {
   "display_name": "Python 3",
   "language": "python",
   "name": "python3"
  },
  "language_info": {
   "codemirror_mode": {
    "name": "ipython",
    "version": 3
   },
   "file_extension": ".py",
   "mimetype": "text/x-python",
   "name": "python",
   "nbconvert_exporter": "python",
   "pygments_lexer": "ipython3",
   "version": "3.11.2"
  }
 },
 "nbformat": 4,
 "nbformat_minor": 2
}
