{
 "cells": [
  {
   "cell_type": "code",
   "execution_count": 4,
   "metadata": {},
   "outputs": [],
   "source": [
    "import ipywidgets as widgets\n",
    "import pandas as pd \n",
    "import datetime\n",
    "import numpy as np\n",
    "import matplotlib.pyplot as plt\n",
    "import matplotlib.colors as colors\n",
    "import colorsys\n",
    "import itertools\n",
    "import networkx as nx\n",
    "import igraph as ig\n",
    "import gc\n",
    "import pickle"
   ]
  },
  {
   "cell_type": "code",
   "execution_count": 39,
   "metadata": {},
   "outputs": [],
   "source": [
    "file_path= 'test.txt'"
   ]
  },
  {
   "cell_type": "code",
   "execution_count": 31,
   "metadata": {},
   "outputs": [],
   "source": [
    "# g = ig.Graph.Load(file_path, format=\"ncol\", directed=False, names=True, weights=True)\n",
    "g = ig.Graph.Load(file_path, format=\"ncol\", directed=False, names=False ,weights=True)\n",
    "# g = ig.Graph.Read_Edgelist('file_path, directed=False)\n",
    "# g = ig.Graph.Read_Ncol(file_path)"
   ]
  },
  {
   "cell_type": "code",
   "execution_count": 40,
   "metadata": {},
   "outputs": [],
   "source": [
    "g = ig.Graph(n=7, directed=False)"
   ]
  },
  {
   "cell_type": "code",
   "execution_count": 41,
   "metadata": {},
   "outputs": [],
   "source": [
    "with open(file_path, 'r') as file:\n",
    "    for line in file:\n",
    "        from_vertex, to_vertex, weight = map(int, line.strip().split())\n",
    "        g.add_edge(from_vertex, to_vertex, weight=weight)"
   ]
  },
  {
   "cell_type": "code",
   "execution_count": 42,
   "metadata": {},
   "outputs": [
    {
     "name": "stdout",
     "output_type": "stream",
     "text": [
      "Vertices:\n",
      "Vertex 0\n",
      "Vertex 1\n",
      "Vertex 2\n",
      "Vertex 3\n",
      "Vertex 4\n",
      "Vertex 5\n",
      "Vertex 6\n",
      "\n",
      "Edges:\n",
      "Edge 0: Source=0, Target=2, Weight=5\n",
      "Edge 1: Source=0, Target=4, Weight=1\n",
      "Edge 2: Source=0, Target=6, Weight=2\n",
      "Edge 3: Source=1, Target=3, Weight=9\n",
      "Edge 4: Source=2, Target=4, Weight=1\n"
     ]
    }
   ],
   "source": [
    "print(\"Vertices:\")\n",
    "for vertex in g.vs:\n",
    "    print(f\"Vertex {vertex.index}\")#: Name={vertex['name']}\")\n",
    "    # print(f\"Vertex {vertex.index}: Name={vertex['name']}\")\n",
    "\n",
    "# Print edges and their properties\n",
    "print(\"\\nEdges:\")\n",
    "for edge in g.es:\n",
    "    print(f\"Edge {edge.index}: Source={edge.source}, Target={edge.target}, Weight={edge['weight']}\")"
   ]
  },
  {
   "cell_type": "code",
   "execution_count": 43,
   "metadata": {},
   "outputs": [
    {
     "data": {
      "image/svg+xml": [
       "<?xml version=\"1.0\" encoding=\"UTF-8\"?>\n",
       "<svg xmlns=\"http://www.w3.org/2000/svg\" xmlns:xlink=\"http://www.w3.org/1999/xlink\" width=\"300\" height=\"300\" viewBox=\"0 0 300 300\">\n",
       "<rect x=\"-30\" y=\"-30\" width=\"360\" height=\"360\" fill=\"rgb(100%, 100%, 100%)\" fill-opacity=\"1\"/>\n",
       "<path fill=\"none\" stroke-width=\"1\" stroke-linecap=\"butt\" stroke-linejoin=\"miter\" stroke=\"rgb(26.666667%, 26.666667%, 26.666667%)\" stroke-opacity=\"1\" stroke-miterlimit=\"10\" d=\"M 172.632812 227.148438 L 75.476562 213.410156 \"/>\n",
       "<path fill=\"none\" stroke-width=\"1\" stroke-linecap=\"butt\" stroke-linejoin=\"miter\" stroke=\"rgb(26.666667%, 26.666667%, 26.666667%)\" stroke-opacity=\"1\" stroke-miterlimit=\"10\" d=\"M 172.632812 227.148438 L 103.578125 280 \"/>\n",
       "<path fill=\"none\" stroke-width=\"1\" stroke-linecap=\"butt\" stroke-linejoin=\"miter\" stroke=\"rgb(26.666667%, 26.666667%, 26.666667%)\" stroke-opacity=\"1\" stroke-miterlimit=\"10\" d=\"M 172.632812 227.148438 L 268.824219 207.78125 \"/>\n",
       "<path fill=\"none\" stroke-width=\"1\" stroke-linecap=\"butt\" stroke-linejoin=\"miter\" stroke=\"rgb(26.666667%, 26.666667%, 26.666667%)\" stroke-opacity=\"1\" stroke-miterlimit=\"10\" d=\"M 94.191406 20 L 20 57.9375 \"/>\n",
       "<path fill=\"none\" stroke-width=\"1\" stroke-linecap=\"butt\" stroke-linejoin=\"miter\" stroke=\"rgb(26.666667%, 26.666667%, 26.666667%)\" stroke-opacity=\"1\" stroke-miterlimit=\"10\" d=\"M 75.476562 213.410156 L 103.578125 280 \"/>\n",
       "<path fill-rule=\"nonzero\" fill=\"rgb(100%, 0%, 0%)\" fill-opacity=\"1\" stroke-width=\"1\" stroke-linecap=\"butt\" stroke-linejoin=\"miter\" stroke=\"rgb(0%, 0%, 0%)\" stroke-opacity=\"1\" stroke-miterlimit=\"10\" d=\"M 182.632812 227.148438 C 182.632812 232.671875 178.152344 237.148438 172.632812 237.148438 C 167.109375 237.148438 162.632812 232.671875 162.632812 227.148438 C 162.632812 221.625 167.109375 217.148438 172.632812 217.148438 C 178.152344 217.148438 182.632812 221.625 182.632812 227.148438 \"/>\n",
       "<path fill-rule=\"nonzero\" fill=\"rgb(100%, 0%, 0%)\" fill-opacity=\"1\" stroke-width=\"1\" stroke-linecap=\"butt\" stroke-linejoin=\"miter\" stroke=\"rgb(0%, 0%, 0%)\" stroke-opacity=\"1\" stroke-miterlimit=\"10\" d=\"M 104.191406 20 C 104.191406 25.523438 99.714844 30 94.191406 30 C 88.667969 30 84.191406 25.523438 84.191406 20 C 84.191406 14.476562 88.667969 10 94.191406 10 C 99.714844 10 104.191406 14.476562 104.191406 20 \"/>\n",
       "<path fill-rule=\"nonzero\" fill=\"rgb(100%, 0%, 0%)\" fill-opacity=\"1\" stroke-width=\"1\" stroke-linecap=\"butt\" stroke-linejoin=\"miter\" stroke=\"rgb(0%, 0%, 0%)\" stroke-opacity=\"1\" stroke-miterlimit=\"10\" d=\"M 85.476562 213.410156 C 85.476562 218.933594 80.996094 223.410156 75.476562 223.410156 C 69.953125 223.410156 65.476562 218.933594 65.476562 213.410156 C 65.476562 207.890625 69.953125 203.410156 75.476562 203.410156 C 80.996094 203.410156 85.476562 207.890625 85.476562 213.410156 \"/>\n",
       "<path fill-rule=\"nonzero\" fill=\"rgb(100%, 0%, 0%)\" fill-opacity=\"1\" stroke-width=\"1\" stroke-linecap=\"butt\" stroke-linejoin=\"miter\" stroke=\"rgb(0%, 0%, 0%)\" stroke-opacity=\"1\" stroke-miterlimit=\"10\" d=\"M 30 57.9375 C 30 63.460938 25.523438 67.9375 20 67.9375 C 14.476562 67.9375 10 63.460938 10 57.9375 C 10 52.414062 14.476562 47.9375 20 47.9375 C 25.523438 47.9375 30 52.414062 30 57.9375 \"/>\n",
       "<path fill-rule=\"nonzero\" fill=\"rgb(100%, 0%, 0%)\" fill-opacity=\"1\" stroke-width=\"1\" stroke-linecap=\"butt\" stroke-linejoin=\"miter\" stroke=\"rgb(0%, 0%, 0%)\" stroke-opacity=\"1\" stroke-miterlimit=\"10\" d=\"M 113.578125 280 C 113.578125 285.523438 109.101562 290 103.578125 290 C 98.058594 290 93.578125 285.523438 93.578125 280 C 93.578125 274.476562 98.058594 270 103.578125 270 C 109.101562 270 113.578125 274.476562 113.578125 280 \"/>\n",
       "<path fill-rule=\"nonzero\" fill=\"rgb(100%, 0%, 0%)\" fill-opacity=\"1\" stroke-width=\"1\" stroke-linecap=\"butt\" stroke-linejoin=\"miter\" stroke=\"rgb(0%, 0%, 0%)\" stroke-opacity=\"1\" stroke-miterlimit=\"10\" d=\"M 290 47.621094 C 290 53.144531 285.523438 57.621094 280 57.621094 C 274.476562 57.621094 270 53.144531 270 47.621094 C 270 42.101562 274.476562 37.621094 280 37.621094 C 285.523438 37.621094 290 42.101562 290 47.621094 \"/>\n",
       "<path fill-rule=\"nonzero\" fill=\"rgb(100%, 0%, 0%)\" fill-opacity=\"1\" stroke-width=\"1\" stroke-linecap=\"butt\" stroke-linejoin=\"miter\" stroke=\"rgb(0%, 0%, 0%)\" stroke-opacity=\"1\" stroke-miterlimit=\"10\" d=\"M 278.824219 207.78125 C 278.824219 213.304688 274.347656 217.78125 268.824219 217.78125 C 263.300781 217.78125 258.824219 213.304688 258.824219 207.78125 C 258.824219 202.257812 263.300781 197.78125 268.824219 197.78125 C 274.347656 197.78125 278.824219 202.257812 278.824219 207.78125 \"/>\n",
       "</svg>\n"
      ],
      "text/plain": [
       "<igraph.drawing.cairo.plot.CairoPlot at 0x23d021ccb90>"
      ]
     },
     "execution_count": 43,
     "metadata": {
      "image/svg+xml": {
       "isolated": true
      }
     },
     "output_type": "execute_result"
    }
   ],
   "source": [
    "ig.plot(g, bbox=(300, 300), margin=20)"
   ]
  }
 ],
 "metadata": {
  "kernelspec": {
   "display_name": "Python 3",
   "language": "python",
   "name": "python3"
  },
  "language_info": {
   "codemirror_mode": {
    "name": "ipython",
    "version": 3
   },
   "file_extension": ".py",
   "mimetype": "text/x-python",
   "name": "python",
   "nbconvert_exporter": "python",
   "pygments_lexer": "ipython3",
   "version": "3.11.2"
  }
 },
 "nbformat": 4,
 "nbformat_minor": 2
}
